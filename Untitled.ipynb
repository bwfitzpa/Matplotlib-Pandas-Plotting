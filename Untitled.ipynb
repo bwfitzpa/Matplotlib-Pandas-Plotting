{
 "cells": [
  {
   "cell_type": "code",
   "execution_count": null,
   "id": "b7fa5c6b",
   "metadata": {},
   "outputs": [],
   "source": [
    "import pandas as pd\n",
    "\n",
    "# Assuming you have a DataFrame named \"treatment_final_volume\" with \"Drug Regimen\" and \"Tumor Volume (mm3)\" columns\n",
    "\n",
    "# List of treatments you want to analyze\n",
    "treatments = [\"Capomulin\", \"Ramicane\", \"Infubinol\", \"Ceftamin\"]\n",
    "\n",
    "# Create an empty dictionary to store the quartiles, IQR, and outliers for each treatment\n",
    "results = {}\n",
    "\n",
    "for treatment in treatments:\n",
    "    # Filter the data for the current treatment\n",
    "    treatment_data = treatment_final_volume[treatment_final_volume[\"Drug Regimen\"] == treatment]\n",
    "\n",
    "    # Calculate quartiles and IQR\n",
    "    quartiles = treatment_data[\"Tumor Volume (mm3)\"].quantile([0.25, 0.5, 0.75])\n",
    "    first_quartile = quartiles[0.25]\n",
    "    third_quartile = quartiles[0.75]\n",
    "    iqr = third_quartile - first_quartile\n",
    "\n",
    "    # Define lower and upper bounds for outliers\n",
    "    lower_bound = first_quartile - 1.5 * iqr\n",
    "    upper_bound = third_quartile + 1.5 * iqr\n",
    "\n",
    "    # Find potential outliers\n",
    "    potential_outliers = treatment_data[(treatment_data[\"Tumor Volume (mm3)\"] < lower_bound) | (treatment_data[\"Tumor Volume (mm3)\"] > upper_bound)]\n",
    "\n",
    "    # Store the quartiles, IQR, and potential outliers in the dictionary\n",
    "    results[treatment] = {\n",
    "        \"First Quartile\": first_quartile,\n",
    "        \"Third Quartile\": third_quartile,\n",
    "        \"IQR\": iqr,\n",
    "        \"Potential Outliers\": potential_outliers[\"Tumor Volume (mm3)\"].tolist()\n",
    "    }\n",
    "\n",
    "# Print the quartiles, IQR, and potential outliers for each treatment\n",
    "for treatment, info in results.items():\n",
    "    first_quartile = info[\"First Quartile\"]\n",
    "    third_quartile = info[\"Third Quartile\"]\n",
    "    iqr = info[\"IQR\"]\n",
    "    potential_outliers = info[\"Potential Outliers\"]\n",
    "    \n",
    "    if len(potential_outliers) == 0:\n",
    "        potential_outliers = \"none\"\n",
    "    \n",
    "    print(f\"{treatment}'s First Quartile: {first_quartile:.2f}\")\n",
    "    print(f\"{treatment}'s Third Quartile: {third_quartile:.2f}\")\n",
    "    print(f\"{treatment}'s IQR: {iqr:.2f}\")\n",
    "    print(f\"{treatment}'s potential outliers: {potential_outliers}\")\n"
   ]
  }
 ],
 "metadata": {
  "kernelspec": {
   "display_name": "Python 3 (ipykernel)",
   "language": "python",
   "name": "python3"
  },
  "language_info": {
   "codemirror_mode": {
    "name": "ipython",
    "version": 3
   },
   "file_extension": ".py",
   "mimetype": "text/x-python",
   "name": "python",
   "nbconvert_exporter": "python",
   "pygments_lexer": "ipython3",
   "version": "3.10.13"
  }
 },
 "nbformat": 4,
 "nbformat_minor": 5
}
