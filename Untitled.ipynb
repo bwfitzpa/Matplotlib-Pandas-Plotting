{
 "cells": [
  {
   "cell_type": "code",
   "execution_count": 1,
   "id": "9f7b4f8e",
   "metadata": {},
   "outputs": [],
   "source": [
    "#Module 5 Challenge Plotting"
   ]
  },
  {
   "cell_type": "code",
   "execution_count": 2,
   "id": "ce20f73e",
   "metadata": {},
   "outputs": [],
   "source": [
    "#Import Dependencies\n",
    "import matplotlib.pyplot as plt\n",
    "import pandas as pd\n",
    "import scipy.stats as st\n",
    "import numpy as np"
   ]
  },
  {
   "cell_type": "code",
   "execution_count": 3,
   "id": "a8ebb0c5",
   "metadata": {},
   "outputs": [],
   "source": [
    "#Reading in the DataSets\n",
    "mouse_metadata_data = pd.read_csv(\"data/Mouse_metadata.csv\")\n",
    "study_results_data = pd.read_csv(\"data/Study_results.csv\")\n",
    "###mouse_metadata_data.head()\n",
    "###study_results_data.head()"
   ]
  },
  {
   "cell_type": "code",
   "execution_count": 4,
   "id": "62770d6e",
   "metadata": {},
   "outputs": [
    {
     "data": {
      "text/html": [
       "<div>\n",
       "<style scoped>\n",
       "    .dataframe tbody tr th:only-of-type {\n",
       "        vertical-align: middle;\n",
       "    }\n",
       "\n",
       "    .dataframe tbody tr th {\n",
       "        vertical-align: top;\n",
       "    }\n",
       "\n",
       "    .dataframe thead th {\n",
       "        text-align: right;\n",
       "    }\n",
       "</style>\n",
       "<table border=\"1\" class=\"dataframe\">\n",
       "  <thead>\n",
       "    <tr style=\"text-align: right;\">\n",
       "      <th></th>\n",
       "      <th>Mouse ID</th>\n",
       "      <th>Drug Regimen</th>\n",
       "      <th>Sex</th>\n",
       "      <th>Age_months</th>\n",
       "      <th>Weight (g)</th>\n",
       "      <th>Timepoint</th>\n",
       "      <th>Tumor Volume (mm3)</th>\n",
       "      <th>Metastatic Sites</th>\n",
       "    </tr>\n",
       "  </thead>\n",
       "  <tbody>\n",
       "    <tr>\n",
       "      <th>0</th>\n",
       "      <td>k403</td>\n",
       "      <td>Ramicane</td>\n",
       "      <td>Male</td>\n",
       "      <td>21</td>\n",
       "      <td>16</td>\n",
       "      <td>0</td>\n",
       "      <td>45.000000</td>\n",
       "      <td>0</td>\n",
       "    </tr>\n",
       "    <tr>\n",
       "      <th>1</th>\n",
       "      <td>k403</td>\n",
       "      <td>Ramicane</td>\n",
       "      <td>Male</td>\n",
       "      <td>21</td>\n",
       "      <td>16</td>\n",
       "      <td>5</td>\n",
       "      <td>38.825898</td>\n",
       "      <td>0</td>\n",
       "    </tr>\n",
       "    <tr>\n",
       "      <th>2</th>\n",
       "      <td>k403</td>\n",
       "      <td>Ramicane</td>\n",
       "      <td>Male</td>\n",
       "      <td>21</td>\n",
       "      <td>16</td>\n",
       "      <td>10</td>\n",
       "      <td>35.014271</td>\n",
       "      <td>1</td>\n",
       "    </tr>\n",
       "    <tr>\n",
       "      <th>3</th>\n",
       "      <td>k403</td>\n",
       "      <td>Ramicane</td>\n",
       "      <td>Male</td>\n",
       "      <td>21</td>\n",
       "      <td>16</td>\n",
       "      <td>15</td>\n",
       "      <td>34.223992</td>\n",
       "      <td>1</td>\n",
       "    </tr>\n",
       "    <tr>\n",
       "      <th>4</th>\n",
       "      <td>k403</td>\n",
       "      <td>Ramicane</td>\n",
       "      <td>Male</td>\n",
       "      <td>21</td>\n",
       "      <td>16</td>\n",
       "      <td>20</td>\n",
       "      <td>32.997729</td>\n",
       "      <td>1</td>\n",
       "    </tr>\n",
       "  </tbody>\n",
       "</table>\n",
       "</div>"
      ],
      "text/plain": [
       "  Mouse ID Drug Regimen   Sex  Age_months  Weight (g)  Timepoint  \\\n",
       "0     k403     Ramicane  Male          21          16          0   \n",
       "1     k403     Ramicane  Male          21          16          5   \n",
       "2     k403     Ramicane  Male          21          16         10   \n",
       "3     k403     Ramicane  Male          21          16         15   \n",
       "4     k403     Ramicane  Male          21          16         20   \n",
       "\n",
       "   Tumor Volume (mm3)  Metastatic Sites  \n",
       "0           45.000000                 0  \n",
       "1           38.825898                 0  \n",
       "2           35.014271                 1  \n",
       "3           34.223992                 1  \n",
       "4           32.997729                 1  "
      ]
     },
     "execution_count": 4,
     "metadata": {},
     "output_type": "execute_result"
    }
   ],
   "source": [
    "#Merging mouse_metadata_data and study_results_data on Mouse ID\n",
    "mouse_data = pd.merge(mouse_metadata_data, study_results_data, on=\"Mouse ID\")\n",
    "mouse_data.head()"
   ]
  },
  {
   "cell_type": "code",
   "execution_count": 5,
   "id": "cf209e19",
   "metadata": {
    "scrolled": true
   },
   "outputs": [
    {
     "name": "stdout",
     "output_type": "stream",
     "text": [
      "249\n"
     ]
    }
   ],
   "source": [
    "#Finding the number of mice\n",
    "mouse_ID = mouse_data[\"Mouse ID\"].unique()\n",
    "mice_number = len(mouse_ID)\n",
    "print(mice_number)"
   ]
  },
  {
   "cell_type": "code",
   "execution_count": 6,
   "id": "004bf9bc",
   "metadata": {},
   "outputs": [
    {
     "name": "stdout",
     "output_type": "stream",
     "text": [
      "['g989']\n"
     ]
    }
   ],
   "source": [
    "#Looking for duplicates (the same mouse with two timepoints that are the same)\n",
    "#Looked up how to find duplicates on Stack Overflow\n",
    "duplicates = mouse_data[mouse_data.duplicated(subset = [\"Mouse ID\", \"Timepoint\"])]\n",
    "#Finding the ID of the mouse that has two timepoints that are the same\n",
    "duplicate_ID = duplicates[\"Mouse ID\"].unique()\n",
    "print(duplicate_ID)"
   ]
  },
  {
   "cell_type": "code",
   "execution_count": 7,
   "id": "bdcaa611",
   "metadata": {},
   "outputs": [
    {
     "name": "stdout",
     "output_type": "stream",
     "text": [
      "    Mouse ID Drug Regimen     Sex  Age_months  Weight (g)  Timepoint  \\\n",
      "908     g989     Propriva  Female          21          26          0   \n",
      "909     g989     Propriva  Female          21          26          0   \n",
      "910     g989     Propriva  Female          21          26          5   \n",
      "911     g989     Propriva  Female          21          26          5   \n",
      "912     g989     Propriva  Female          21          26         10   \n",
      "913     g989     Propriva  Female          21          26         10   \n",
      "914     g989     Propriva  Female          21          26         15   \n",
      "915     g989     Propriva  Female          21          26         15   \n",
      "916     g989     Propriva  Female          21          26         20   \n",
      "917     g989     Propriva  Female          21          26         20   \n",
      "918     g989     Propriva  Female          21          26         25   \n",
      "919     g989     Propriva  Female          21          26         30   \n",
      "920     g989     Propriva  Female          21          26         35   \n",
      "\n",
      "     Tumor Volume (mm3)  Metastatic Sites  \n",
      "908           45.000000                 0  \n",
      "909           45.000000                 0  \n",
      "910           48.786801                 0  \n",
      "911           47.570392                 0  \n",
      "912           51.745156                 0  \n",
      "913           49.880528                 0  \n",
      "914           51.325852                 1  \n",
      "915           53.442020                 0  \n",
      "916           55.326122                 1  \n",
      "917           54.657650                 1  \n",
      "918           56.045564                 1  \n",
      "919           59.082294                 1  \n",
      "920           62.570880                 2  \n"
     ]
    }
   ],
   "source": [
    "#Optional, display all of the data for Mouse g898\n",
    "g989_data = mouse_data[mouse_data[\"Mouse ID\"] == \"g989\"]\n",
    "print(g989_data)"
   ]
  },
  {
   "cell_type": "code",
   "execution_count": 8,
   "id": "e8369e37",
   "metadata": {
    "scrolled": true
   },
   "outputs": [
    {
     "name": "stdout",
     "output_type": "stream",
     "text": [
      "248\n"
     ]
    }
   ],
   "source": [
    "#Dropping the mouse with duplicate data\n",
    "#I looked up how to drop a row with a specific value in a column on Stack Overflow\n",
    "mouse_data = mouse_data[mouse_data[\"Mouse ID\"] !=\"g989\"]\n",
    "#Finding the new number of mice\n",
    "mouse_ID = mouse_data[\"Mouse ID\"].unique()\n",
    "mice_number = len(mouse_ID)\n",
    "print(mice_number)"
   ]
  },
  {
   "cell_type": "code",
   "execution_count": 9,
   "id": "554581cd",
   "metadata": {},
   "outputs": [
    {
     "data": {
      "text/html": [
       "<div>\n",
       "<style scoped>\n",
       "    .dataframe tbody tr th:only-of-type {\n",
       "        vertical-align: middle;\n",
       "    }\n",
       "\n",
       "    .dataframe tbody tr th {\n",
       "        vertical-align: top;\n",
       "    }\n",
       "\n",
       "    .dataframe thead th {\n",
       "        text-align: right;\n",
       "    }\n",
       "</style>\n",
       "<table border=\"1\" class=\"dataframe\">\n",
       "  <thead>\n",
       "    <tr style=\"text-align: right;\">\n",
       "      <th></th>\n",
       "      <th>Mean</th>\n",
       "      <th>Median</th>\n",
       "      <th>Variance</th>\n",
       "      <th>Standard Deviation</th>\n",
       "      <th>SEM</th>\n",
       "    </tr>\n",
       "    <tr>\n",
       "      <th>Drug Regimen</th>\n",
       "      <th></th>\n",
       "      <th></th>\n",
       "      <th></th>\n",
       "      <th></th>\n",
       "      <th></th>\n",
       "    </tr>\n",
       "  </thead>\n",
       "  <tbody>\n",
       "    <tr>\n",
       "      <th>Capomulin</th>\n",
       "      <td>40.675741</td>\n",
       "      <td>41.557809</td>\n",
       "      <td>24.947764</td>\n",
       "      <td>4.994774</td>\n",
       "      <td>0.329346</td>\n",
       "    </tr>\n",
       "    <tr>\n",
       "      <th>Ceftamin</th>\n",
       "      <td>52.591172</td>\n",
       "      <td>51.776157</td>\n",
       "      <td>39.290177</td>\n",
       "      <td>6.268188</td>\n",
       "      <td>0.469821</td>\n",
       "    </tr>\n",
       "    <tr>\n",
       "      <th>Infubinol</th>\n",
       "      <td>52.884795</td>\n",
       "      <td>51.820584</td>\n",
       "      <td>43.128684</td>\n",
       "      <td>6.567243</td>\n",
       "      <td>0.492236</td>\n",
       "    </tr>\n",
       "    <tr>\n",
       "      <th>Ketapril</th>\n",
       "      <td>55.235638</td>\n",
       "      <td>53.698743</td>\n",
       "      <td>68.553577</td>\n",
       "      <td>8.279709</td>\n",
       "      <td>0.603860</td>\n",
       "    </tr>\n",
       "    <tr>\n",
       "      <th>Naftisol</th>\n",
       "      <td>54.331565</td>\n",
       "      <td>52.509285</td>\n",
       "      <td>66.173479</td>\n",
       "      <td>8.134708</td>\n",
       "      <td>0.596466</td>\n",
       "    </tr>\n",
       "    <tr>\n",
       "      <th>Placebo</th>\n",
       "      <td>54.033581</td>\n",
       "      <td>52.288934</td>\n",
       "      <td>61.168083</td>\n",
       "      <td>7.821003</td>\n",
       "      <td>0.581331</td>\n",
       "    </tr>\n",
       "    <tr>\n",
       "      <th>Propriva</th>\n",
       "      <td>52.320930</td>\n",
       "      <td>50.446266</td>\n",
       "      <td>43.852013</td>\n",
       "      <td>6.622085</td>\n",
       "      <td>0.544332</td>\n",
       "    </tr>\n",
       "    <tr>\n",
       "      <th>Ramicane</th>\n",
       "      <td>40.216745</td>\n",
       "      <td>40.673236</td>\n",
       "      <td>23.486704</td>\n",
       "      <td>4.846308</td>\n",
       "      <td>0.320955</td>\n",
       "    </tr>\n",
       "    <tr>\n",
       "      <th>Stelasyn</th>\n",
       "      <td>54.233149</td>\n",
       "      <td>52.431737</td>\n",
       "      <td>59.450562</td>\n",
       "      <td>7.710419</td>\n",
       "      <td>0.573111</td>\n",
       "    </tr>\n",
       "    <tr>\n",
       "      <th>Zoniferol</th>\n",
       "      <td>53.236507</td>\n",
       "      <td>51.818479</td>\n",
       "      <td>48.533355</td>\n",
       "      <td>6.966589</td>\n",
       "      <td>0.516398</td>\n",
       "    </tr>\n",
       "  </tbody>\n",
       "</table>\n",
       "</div>"
      ],
      "text/plain": [
       "                   Mean     Median   Variance  Standard Deviation       SEM\n",
       "Drug Regimen                                                               \n",
       "Capomulin     40.675741  41.557809  24.947764            4.994774  0.329346\n",
       "Ceftamin      52.591172  51.776157  39.290177            6.268188  0.469821\n",
       "Infubinol     52.884795  51.820584  43.128684            6.567243  0.492236\n",
       "Ketapril      55.235638  53.698743  68.553577            8.279709  0.603860\n",
       "Naftisol      54.331565  52.509285  66.173479            8.134708  0.596466\n",
       "Placebo       54.033581  52.288934  61.168083            7.821003  0.581331\n",
       "Propriva      52.320930  50.446266  43.852013            6.622085  0.544332\n",
       "Ramicane      40.216745  40.673236  23.486704            4.846308  0.320955\n",
       "Stelasyn      54.233149  52.431737  59.450562            7.710419  0.573111\n",
       "Zoniferol     53.236507  51.818479  48.533355            6.966589  0.516398"
      ]
     },
     "execution_count": 9,
     "metadata": {},
     "output_type": "execute_result"
    }
   ],
   "source": [
    "#Summary statistics for tumor volume by drug regimen\n",
    "#Setting the drug regimen as the index column\n",
    "mouse_data_drug_index = mouse_data.set_index(\"Drug Regimen\")\n",
    "\n",
    "#Finding summary statistics\n",
    "#Finding the mean Tumor Volume for each drug regime\n",
    "mean_tumor_volume = mouse_data_drug_index.groupby(\"Drug Regimen\")[\"Tumor Volume (mm3)\"].mean()\n",
    "#Finding the median Tumor Volume for each drug regime\n",
    "median_tumor_volume = mouse_data_drug_index.groupby(\"Drug Regimen\")[\"Tumor Volume (mm3)\"].median()\n",
    "#Finding the variance of Tumor Volume for each drug regime, looked up the .var() on pandas.pydata.org\n",
    "variance_tumor_volume = mouse_data_drug_index.groupby(\"Drug Regimen\")[\"Tumor Volume (mm3)\"].var()\n",
    "#Finding the standard deviation of Tumor Volume for each drug regime, looked up the .var() on pandas.pydata.org\n",
    "stdev_tumor_volume = mouse_data_drug_index.groupby(\"Drug Regimen\")[\"Tumor Volume (mm3)\"].std()\n",
    "#Finding the standard error(SEM) of Tumor Volume for each drug regime, looked up the .var() on pandas.pydata.org\n",
    "sem_tumor_volume = mouse_data_drug_index.groupby(\"Drug Regimen\")[\"Tumor Volume (mm3)\"].sem()\n",
    "\n",
    "#Creating a single dataframe to include the summary statistics of tumor volume by drug regimen\n",
    "tumor_volume_summary_statistics = pd.merge(mean_tumor_volume, median_tumor_volume, on=\"Drug Regimen\", how=\"left\")\n",
    "tumor_volume_summary_statistics = pd.merge(tumor_volume_summary_statistics, variance_tumor_volume, on=\"Drug Regimen\", how=\"left\")\n",
    "tumor_volume_summary_statistics = tumor_volume_summary_statistics.rename(columns={\"Tumor Volume (mm3)_x\":\"Mean\",\n",
    "                                                                                 \"Tumor Volume (mm3)_y\":\"Median\",\n",
    "                                                                                 \"Tumor Volume (mm3)\":\"Variance\"})\n",
    "tumor_volume_summary_statistics = pd.merge(tumor_volume_summary_statistics, stdev_tumor_volume, on=\"Drug Regimen\", how=\"left\") \n",
    "tumor_volume_summary_statistics = tumor_volume_summary_statistics.rename(columns={\"Tumor Volume (mm3)\":\"Standard Deviation\"})\n",
    "tumor_volume_summary_statistics = pd.merge(tumor_volume_summary_statistics, sem_tumor_volume, on=\"Drug Regimen\", how=\"left\") \n",
    "tumor_volume_summary_statistics = tumor_volume_summary_statistics.rename(columns={\"Tumor Volume (mm3)\":\"SEM\"})\n",
    "tumor_volume_summary_statistics"
   ]
  },
  {
   "cell_type": "code",
   "execution_count": 10,
   "id": "0773a9d6",
   "metadata": {
    "scrolled": false
   },
   "outputs": [
    {
     "data": {
      "image/png": "[encoded data removed]",
      "text/plain": [
       "<Figure size 600x400 with 1 Axes>"
      ]
     },
     "metadata": {},
     "output_type": "display_data"
    }
   ],
   "source": [
    "# Bar chart showing Mouse ID/Timepoints for each Drug Regime using Pandas DataFrame.plot() method\n",
    "#mouse_data = mouse_data.set_index(\"Drug Regimen\")\n",
    "#Creating the dataframe\n",
    "drug_by_timepoint = mouse_data.groupby(\"Drug Regimen\")[\"Timepoint\"].count()\n",
    "drug_by_timepoint = drug_by_timepoint.sort_values(ascending=False)\n",
    "drug_by_timepoint = pd.DataFrame(drug_by_timepoint)\n",
    "\n",
    "#Creating the chart\n",
    "drug_by_timepoint_chart = drug_by_timepoint.plot(kind=\"bar\", figsize=(6,4), legend=False)\n",
    "drug_by_timepoint_chart.set_xlabel(\"Drug Regimen\")\n",
    "drug_by_timepoint_chart.set_ylabel(\"# of Observed Mouse Timepoints\")\n",
    "plt.show(drug_by_timepoint_chart)"
   ]
  },
  {
   "cell_type": "code",
   "execution_count": 11,
   "id": "f48f7c21",
   "metadata": {},
   "outputs": [
    {
     "data": {
      "image/png": "[encoded data removed]",
      "text/plain": [
       "<Figure size 640x480 with 1 Axes>"
      ]
     },
     "metadata": {},
     "output_type": "display_data"
    }
   ],
   "source": [
    "# Bar chart showing Mouse ID/Timepoints for each Drug Regime using Matplotlib's pyplot method\n",
    "#drug_by_timepoint = pd.DataFrame(drug_by_timepoint)\n",
    "x_axis = drug_by_timepoint.index\n",
    "y_axis = drug_by_timepoint[\"Timepoint\"]\n",
    "plt.bar(x_axis, y_axis, align=\"edge\")\n",
    "plt.xticks(rotation = 90)\n",
    "plt.xlabel(\"Drug Regime\")\n",
    "plt.ylabel(\"# of Observed Mouse Timepoints\")\n",
    "plt.show()"
   ]
  },
  {
   "cell_type": "code",
   "execution_count": 12,
   "id": "23f225d5",
   "metadata": {
    "scrolled": true
   },
   "outputs": [
    {
     "data": {
      "image/png": "[encoded data removed]",
      "text/plain": [
       "<Figure size 500x500 with 1 Axes>"
      ]
     },
     "metadata": {},
     "output_type": "display_data"
    }
   ],
   "source": [
    "#Distribution of mice in the study by male and female using Pandas DataFrame.plot() method\n",
    "#Creating the dataframe\n",
    "sex_distribution = mouse_data['Sex'].value_counts()\n",
    "sex_distribution = pd.DataFrame(sex_distribution)\n",
    "sex_distribution = sex_distribution.rename_axis(\"male_female\")\n",
    "sex_distribution = sex_distribution.rename(columns={\"count\": \"Sex\"})\n",
    "\n",
    "#Creating the chart, looked up on pandas.pydata.org for some formatting\n",
    "sex_distribution_chart = sex_distribution.plot.pie(y=\"Sex\", figsize=(5,5), legend=False, autopct='%1.1f%%') \n",
    "plt.show()"
   ]
  },
  {
   "cell_type": "code",
   "execution_count": 13,
   "id": "2f1fac3f",
   "metadata": {
    "scrolled": true
   },
   "outputs": [
    {
     "data": {
      "image/png": "[encoded data removed]",
      "text/plain": [
       "<Figure size 640x480 with 1 Axes>"
      ]
     },
     "metadata": {},
     "output_type": "display_data"
    }
   ],
   "source": [
    "#Distribution of mice in the study by male and female using Matplotlib's pyplot method, looked at matplotlib.org/ for how to format\n",
    "labels = sex_distribution.index\n",
    "sizes = sex_distribution[\"Sex\"]\n",
    "fig, sex_distribution_chart = plt.subplots()\n",
    "sex_distribution_chart.pie(sizes, labels=labels, autopct='%1.1f%%')\n",
    "sex_distribution_chart.set_title(\"Sex\")\n",
    "plt.show()"
   ]
  },
  {
   "cell_type": "code",
   "execution_count": 14,
   "id": "80c5e464",
   "metadata": {},
   "outputs": [],
   "source": [
    "#Calculate Quartiles, Find Outliers, and Create a Box Plot\n",
    "#Creating a dataframe that includes the last timepoint for each mouse\n",
    "last_time_data = mouse_data.groupby(\"Mouse ID\")[\"Timepoint\"].max()\n",
    "\n",
    "#Merging last_time_data with original merged data frame\n",
    "mouse_lasttime_data = pd.merge(mouse_data, last_time_data, on=\"Mouse ID\", how=\"left\")\n",
    "#Renaming variables, looked up inplace=True on Stack Overflow after I kept on getting an error message\n",
    "mouse_lasttime_data.rename(columns={\"Timepoint_x\": \"Timepoint\", \n",
    "                                    \"Timepoint_y\": \"Last_Timepoint\"}, \n",
    "                                   inplace=True)\n",
    "#Removing rows that are not the last time point\n",
    "mouse_lasttime_data = mouse_lasttime_data[mouse_lasttime_data[\"Timepoint\"] == mouse_lasttime_data[\"Last_Timepoint\"]]\n",
    "\n",
    "\n",
    "#Creating a list of treatment names, and an empty list for final tumor volume\n",
    "treatment_names = list(mouse_lasttime_data[\"Drug Regimen\"].values)\n",
    "tumor_volume = []\n",
    "\n",
    "#Creating a loop to find the final tumor volume for each mouse, looked up .iterrows() on pandas.pydata.org/docs\n",
    "#Not sure why this step is needed, already have the final tumor volumes in the merged dataframe, unless I was meant to preserve all values in the merged dataframe?\n",
    "for index, row in mouse_lasttime_data.iterrows():\n",
    "    mouse_id = row[\"Mouse ID\"]\n",
    "    volume = row[\"Tumor Volume (mm3)\"]\n",
    "    tumor_volume.append(volume)\n",
    "\n"
   ]
  },
  {
   "cell_type": "code",
   "execution_count": 56,
   "id": "fa2083d6",
   "metadata": {},
   "outputs": [
    {
     "name": "stdout",
     "output_type": "stream",
     "text": [
      "Capomulin's potential outliers: ['none']\n",
      "Ramicane's potential outliers: ['none']\n",
      "Infubinol's potential outliers: [36.3213458]\n",
      "Ceftamin's potential outliers: ['none']\n"
     ]
    }
   ],
   "source": [
    "#Finding any outliers for final tumor volume for treatment with Capomulin, Ramicane, Infubinol, and Ceftamin\n",
    "#Merging the two lists into a dataframe\n",
    "treatment_final_volume = pd.DataFrame({'Drug Regimen': treatment_names, 'Tumor Volume (mm3)': tumor_volume})\n",
    "\n",
    "#Looking for outliers\n",
    "#To find the outliers I use code modified from the lesson 5 \"Quartiles_and_Outliers\" in-class activity\n",
    "#Finding outliers for Capomulin\n",
    "capomulin_final_volume=treatment_final_volume[treatment_final_volume[\"Drug Regimen\"].isin([\"capomulin\"]) == True]\n",
    "quartiles = capomulin_final_volume[\"Tumor Volume (mm3)\"].quantile([0.25, 0.5, 0.75])\n",
    "lowerq = quartiles[0.25]\n",
    "upperq = quartiles[0.75]\n",
    "iqr = upperq-lowerq\n",
    "lower_bound = lowerq - (1.5*iqr)\n",
    "upper_bound = upperq + (1.5*iqr)\n",
    "capomulin_outliers=[]\n",
    "for value in capomulin_final_volume[\"Tumor Volume (mm3)\"]:\n",
    "    if value < lower_bound or value > upper_bound:\n",
    "        capomulin_outliers.append(value)\n",
    "if len(capomulin_outliers) < 1:\n",
    "    capomulin_outliers.append(\"none\")\n",
    "    print(f\"Capomulin's potential outliers: {capomulin_outliers}\")\n",
    "else:\n",
    "    print(f\"Capomulin's potential outliers: {capomulin_outliers}\")\n",
    "#Finding outliers for Ramicane\n",
    "ramicane_final_volume=treatment_final_volume[treatment_final_volume[\"Drug Regimen\"].isin([\"ramicane\"]) == True]\n",
    "quartiles = ramicane_final_volume[\"Tumor Volume (mm3)\"].quantile([0.25, 0.5, 0.75])\n",
    "lowerq = quartiles[0.25]\n",
    "upperq = quartiles[0.75]\n",
    "iqr = upperq-lowerq\n",
    "lower_bound = lowerq - (1.5*iqr)\n",
    "upper_bound = upperq + (1.5*iqr)\n",
    "ramicane_outliers=[]\n",
    "for value in ramicane_final_volume[\"Tumor Volume (mm3)\"]:\n",
    "    if value < lower_bound or value > upper_bound:\n",
    "        ramicane_outliers.append(value)\n",
    "if len(ramicane_outliers) < 1:\n",
    "    ramicane_outliers.append(\"none\")\n",
    "    print(f\"Ramicane's potential outliers: {ramicane_outliers}\")\n",
    "else:\n",
    "    print(f\"Ramicane's potential outliers: {ramicane_outliers}\")\n",
    "#Finding outliers for Infubinol\n",
    "infubinol_final_volume=treatment_final_volume[treatment_final_volume[\"Drug Regimen\"].isin([\"Infubinol\"]) == True]\n",
    "quartiles = infubinol_final_volume[\"Tumor Volume (mm3)\"].quantile([0.25, 0.5, 0.75])\n",
    "lowerq = quartiles[0.25]\n",
    "upperq = quartiles[0.75]\n",
    "iqr = upperq-lowerq\n",
    "lower_bound = lowerq - (1.5*iqr)\n",
    "upper_bound = upperq + (1.5*iqr)\n",
    "infubinol_outliers=[]\n",
    "for value in infubinol_final_volume[\"Tumor Volume (mm3)\"]:\n",
    "    if value < lower_bound or value > upper_bound:\n",
    "        infubinol_outliers.append(value)\n",
    "if len(infubinol_outliers) < 1:\n",
    "    infubinol_outliers.append(\"none\")\n",
    "    print(f\"Infubinol's potential outliers: {infubinol_outliers}\")\n",
    "else:\n",
    "    print(f\"Infubinol's potential outliers: {infubinol_outliers}\")\n",
    "#Finding outliers for Ceftamin\n",
    "ceftamin_final_volume=treatment_final_volume[treatment_final_volume[\"Drug Regimen\"].isin([\"ceftamin\"]) == True]\n",
    "quartiles = ceftamin_final_volume[\"Tumor Volume (mm3)\"].quantile([0.25, 0.5, 0.75])\n",
    "lowerq = quartiles[0.25]\n",
    "upperq = quartiles[0.75]\n",
    "iqr = upperq-lowerq\n",
    "lower_bound = lowerq - (1.5*iqr)\n",
    "upper_bound = upperq + (1.5*iqr)\n",
    "ceftamin_outliers=[]\n",
    "for value in ceftamin_final_volume[\"Tumor Volume (mm3)\"]:\n",
    "    if value < lower_bound or value > upper_bound:\n",
    "        ceftamin_outliers.append(value)\n",
    "if len(ceftamin_outliers) < 1:\n",
    "    ceftamin_outliers.append(\"none\")\n",
    "    print(f\"Ceftamin's potential outliers: {ceftamin_outliers}\")\n",
    "else:\n",
    "    print(f\"Ceftamin's potential outliers: {ceftamin_outliers}\")\n",
    "\n",
    "\n"
   ]
  },
  {
   "cell_type": "code",
   "execution_count": null,
   "id": "42022646",
   "metadata": {},
   "outputs": [],
   "source": []
  }
 ],
 "metadata": {
  "kernelspec": {
   "display_name": "Python 3 (ipykernel)",
   "language": "python",
   "name": "python3"
  },
  "language_info": {
   "codemirror_mode": {
    "name": "ipython",
    "version": 3
   },
   "file_extension": ".py",
   "mimetype": "text/x-python",
   "name": "python",
   "nbconvert_exporter": "python",
   "pygments_lexer": "ipython3",
   "version": "3.10.13"
  }
 },
 "nbformat": 4,
 "nbformat_minor": 5
}
